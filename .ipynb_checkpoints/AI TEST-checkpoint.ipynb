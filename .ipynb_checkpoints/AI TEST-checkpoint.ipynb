{
 "cells": [
  {
   "cell_type": "code",
   "id": "initial_id",
   "metadata": {
    "collapsed": true,
    "jupyter": {
     "is_executing": true
    },
    "ExecuteTime": {
     "start_time": "2025-09-11T11:26:45.792696Z"
    }
   },
   "source": [
    "# 1. Instalar dependências (execute apenas uma vez no notebook)\n",
    "!pip install langchain langchain-openai python-dotenv\n",
    "\n",
    "# 2. Importar bibliotecas\n",
    "import os\n",
    "from dotenv import load_dotenv\n",
    "from langchain_openai import ChatOpenAI\n",
    "from langchain.prompts import ChatPromptTemplate\n",
    "\n",
    "# 3. Carregar variáveis do .env\n",
    "load_dotenv()\n",
    "\n",
    "# 4. Configurar o modelo (usando GPT-3.5 como exemplo)\n",
    "llm = ChatOpenAI(model=\"gpt-3.5-turbo\", temperature=0)\n",
    "\n",
    "# 5. Criar um prompt simples\n",
    "prompt = ChatPromptTemplate.from_messages([\n",
    "    (\"system\", \"Você é um assistente útil.\"),\n",
    "    (\"user\", \"{input}\")\n",
    "])\n",
    "\n",
    "# 6. Montar o chain\n",
    "from langchain.chains import LLMChain\n",
    "chain = LLMChain(llm=llm, prompt=prompt)\n",
    "\n",
    "# 7. Fazer uma requisição de teste\n",
    "resposta = chain.run(\"Explique o que é um JupyterLab em poucas palavras.\")\n",
    "print(resposta)"
   ],
   "outputs": [
    {
     "name": "stdout",
     "output_type": "stream",
     "text": [
      "Requirement already satisfied: langchain in c:\\users\\deyvid\\documents\\gomech\\gomech-ai-service\\.venv\\lib\\site-packages (0.3.27)\n",
      "Requirement already satisfied: langchain-openai in c:\\users\\deyvid\\documents\\gomech\\gomech-ai-service\\.venv\\lib\\site-packages (0.3.32)\n",
      "Requirement already satisfied: python-dotenv in c:\\users\\deyvid\\documents\\gomech\\gomech-ai-service\\.venv\\lib\\site-packages (1.1.1)\n",
      "Requirement already satisfied: langchain-core<1.0.0,>=0.3.72 in c:\\users\\deyvid\\documents\\gomech\\gomech-ai-service\\.venv\\lib\\site-packages (from langchain) (0.3.75)\n",
      "Requirement already satisfied: langchain-text-splitters<1.0.0,>=0.3.9 in c:\\users\\deyvid\\documents\\gomech\\gomech-ai-service\\.venv\\lib\\site-packages (from langchain) (0.3.11)\n",
      "Requirement already satisfied: langsmith>=0.1.17 in c:\\users\\deyvid\\documents\\gomech\\gomech-ai-service\\.venv\\lib\\site-packages (from langchain) (0.4.25)\n",
      "Requirement already satisfied: pydantic<3.0.0,>=2.7.4 in c:\\users\\deyvid\\documents\\gomech\\gomech-ai-service\\.venv\\lib\\site-packages (from langchain) (2.11.7)\n",
      "Requirement already satisfied: SQLAlchemy<3,>=1.4 in c:\\users\\deyvid\\documents\\gomech\\gomech-ai-service\\.venv\\lib\\site-packages (from langchain) (2.0.43)\n",
      "Requirement already satisfied: requests<3,>=2 in c:\\users\\deyvid\\documents\\gomech\\gomech-ai-service\\.venv\\lib\\site-packages (from langchain) (2.32.5)\n",
      "Requirement already satisfied: PyYAML>=5.3 in c:\\users\\deyvid\\documents\\gomech\\gomech-ai-service\\.venv\\lib\\site-packages (from langchain) (6.0.2)\n",
      "Requirement already satisfied: tenacity!=8.4.0,<10.0.0,>=8.1.0 in c:\\users\\deyvid\\documents\\gomech\\gomech-ai-service\\.venv\\lib\\site-packages (from langchain-core<1.0.0,>=0.3.72->langchain) (9.1.2)\n",
      "Requirement already satisfied: jsonpatch<2.0,>=1.33 in c:\\users\\deyvid\\documents\\gomech\\gomech-ai-service\\.venv\\lib\\site-packages (from langchain-core<1.0.0,>=0.3.72->langchain) (1.33)\n",
      "Requirement already satisfied: typing-extensions>=4.7 in c:\\users\\deyvid\\documents\\gomech\\gomech-ai-service\\.venv\\lib\\site-packages (from langchain-core<1.0.0,>=0.3.72->langchain) (4.15.0)\n",
      "Requirement already satisfied: packaging>=23.2 in c:\\users\\deyvid\\documents\\gomech\\gomech-ai-service\\.venv\\lib\\site-packages (from langchain-core<1.0.0,>=0.3.72->langchain) (25.0)\n",
      "Requirement already satisfied: jsonpointer>=1.9 in c:\\users\\deyvid\\documents\\gomech\\gomech-ai-service\\.venv\\lib\\site-packages (from jsonpatch<2.0,>=1.33->langchain-core<1.0.0,>=0.3.72->langchain) (3.0.0)\n",
      "Requirement already satisfied: annotated-types>=0.6.0 in c:\\users\\deyvid\\documents\\gomech\\gomech-ai-service\\.venv\\lib\\site-packages (from pydantic<3.0.0,>=2.7.4->langchain) (0.7.0)\n",
      "Requirement already satisfied: pydantic-core==2.33.2 in c:\\users\\deyvid\\documents\\gomech\\gomech-ai-service\\.venv\\lib\\site-packages (from pydantic<3.0.0,>=2.7.4->langchain) (2.33.2)\n",
      "Requirement already satisfied: typing-inspection>=0.4.0 in c:\\users\\deyvid\\documents\\gomech\\gomech-ai-service\\.venv\\lib\\site-packages (from pydantic<3.0.0,>=2.7.4->langchain) (0.4.1)\n",
      "Requirement already satisfied: charset_normalizer<4,>=2 in c:\\users\\deyvid\\documents\\gomech\\gomech-ai-service\\.venv\\lib\\site-packages (from requests<3,>=2->langchain) (3.4.3)\n",
      "Requirement already satisfied: idna<4,>=2.5 in c:\\users\\deyvid\\documents\\gomech\\gomech-ai-service\\.venv\\lib\\site-packages (from requests<3,>=2->langchain) (3.10)\n",
      "Requirement already satisfied: urllib3<3,>=1.21.1 in c:\\users\\deyvid\\documents\\gomech\\gomech-ai-service\\.venv\\lib\\site-packages (from requests<3,>=2->langchain) (2.5.0)\n",
      "Requirement already satisfied: certifi>=2017.4.17 in c:\\users\\deyvid\\documents\\gomech\\gomech-ai-service\\.venv\\lib\\site-packages (from requests<3,>=2->langchain) (2025.8.3)\n",
      "Requirement already satisfied: greenlet>=1 in c:\\users\\deyvid\\documents\\gomech\\gomech-ai-service\\.venv\\lib\\site-packages (from SQLAlchemy<3,>=1.4->langchain) (3.2.4)\n",
      "Requirement already satisfied: openai<2.0.0,>=1.99.9 in c:\\users\\deyvid\\documents\\gomech\\gomech-ai-service\\.venv\\lib\\site-packages (from langchain-openai) (1.106.1)\n",
      "Requirement already satisfied: tiktoken<1,>=0.7 in c:\\users\\deyvid\\documents\\gomech\\gomech-ai-service\\.venv\\lib\\site-packages (from langchain-openai) (0.11.0)\n",
      "Requirement already satisfied: anyio<5,>=3.5.0 in c:\\users\\deyvid\\documents\\gomech\\gomech-ai-service\\.venv\\lib\\site-packages (from openai<2.0.0,>=1.99.9->langchain-openai) (4.10.0)\n",
      "Requirement already satisfied: distro<2,>=1.7.0 in c:\\users\\deyvid\\documents\\gomech\\gomech-ai-service\\.venv\\lib\\site-packages (from openai<2.0.0,>=1.99.9->langchain-openai) (1.9.0)\n",
      "Requirement already satisfied: httpx<1,>=0.23.0 in c:\\users\\deyvid\\documents\\gomech\\gomech-ai-service\\.venv\\lib\\site-packages (from openai<2.0.0,>=1.99.9->langchain-openai) (0.28.1)\n",
      "Requirement already satisfied: jiter<1,>=0.4.0 in c:\\users\\deyvid\\documents\\gomech\\gomech-ai-service\\.venv\\lib\\site-packages (from openai<2.0.0,>=1.99.9->langchain-openai) (0.10.0)\n",
      "Requirement already satisfied: sniffio in c:\\users\\deyvid\\documents\\gomech\\gomech-ai-service\\.venv\\lib\\site-packages (from openai<2.0.0,>=1.99.9->langchain-openai) (1.3.1)\n",
      "Requirement already satisfied: tqdm>4 in c:\\users\\deyvid\\documents\\gomech\\gomech-ai-service\\.venv\\lib\\site-packages (from openai<2.0.0,>=1.99.9->langchain-openai) (4.67.1)\n",
      "Requirement already satisfied: httpcore==1.* in c:\\users\\deyvid\\documents\\gomech\\gomech-ai-service\\.venv\\lib\\site-packages (from httpx<1,>=0.23.0->openai<2.0.0,>=1.99.9->langchain-openai) (1.0.9)\n",
      "Requirement already satisfied: h11>=0.16 in c:\\users\\deyvid\\documents\\gomech\\gomech-ai-service\\.venv\\lib\\site-packages (from httpcore==1.*->httpx<1,>=0.23.0->openai<2.0.0,>=1.99.9->langchain-openai) (0.16.0)\n",
      "Requirement already satisfied: regex>=2022.1.18 in c:\\users\\deyvid\\documents\\gomech\\gomech-ai-service\\.venv\\lib\\site-packages (from tiktoken<1,>=0.7->langchain-openai) (2025.9.1)\n",
      "Requirement already satisfied: orjson>=3.9.14 in c:\\users\\deyvid\\documents\\gomech\\gomech-ai-service\\.venv\\lib\\site-packages (from langsmith>=0.1.17->langchain) (3.11.3)\n",
      "Requirement already satisfied: requests-toolbelt>=1.0.0 in c:\\users\\deyvid\\documents\\gomech\\gomech-ai-service\\.venv\\lib\\site-packages (from langsmith>=0.1.17->langchain) (1.0.0)\n",
      "Requirement already satisfied: zstandard>=0.23.0 in c:\\users\\deyvid\\documents\\gomech\\gomech-ai-service\\.venv\\lib\\site-packages (from langsmith>=0.1.17->langchain) (0.24.0)\n",
      "Requirement already satisfied: colorama in c:\\users\\deyvid\\documents\\gomech\\gomech-ai-service\\.venv\\lib\\site-packages (from tqdm>4->openai<2.0.0,>=1.99.9->langchain-openai) (0.4.6)\n"
     ]
    }
   ],
   "execution_count": null
  }
 ],
 "metadata": {
  "kernelspec": {
   "display_name": "Python 3",
   "language": "python",
   "name": "python3"
  },
  "language_info": {
   "codemirror_mode": {
    "name": "ipython",
    "version": 2
   },
   "file_extension": ".py",
   "mimetype": "text/x-python",
   "name": "python",
   "nbconvert_exporter": "python",
   "pygments_lexer": "ipython2",
   "version": "2.7.6"
  }
 },
 "nbformat": 4,
 "nbformat_minor": 5
}
